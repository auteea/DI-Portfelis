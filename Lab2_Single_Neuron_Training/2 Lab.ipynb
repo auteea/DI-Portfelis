{
 "cells": [
  {
   "metadata": {
    "ExecuteTime": {
     "end_time": "2024-10-23T19:53:48.127636Z",
     "start_time": "2024-10-23T19:53:40.656995Z"
    }
   },
   "cell_type": "code",
   "source": [
    "import pandas as pd\n",
    "import numpy as np\n",
    "from ucimlrepo import fetch_ucirepo\n",
    "from sklearn.utils import shuffle\n",
    "from sklearn.utils import resample\n",
    "import matplotlib.pyplot as plt\n",
    "from sklearn.model_selection import train_test_split\n",
    "from sklearn.preprocessing import StandardScaler\n",
    "from sklearn.metrics import accuracy_score"
   ],
   "id": "7f2fb94bc475a6ba",
   "outputs": [],
   "execution_count": 1
  },
  {
   "metadata": {},
   "cell_type": "markdown",
   "source": "## Tvarkome Irisų duomenis",
   "id": "2eaa2a9f3a4312f0"
  },
  {
   "metadata": {
    "ExecuteTime": {
     "end_time": "2024-10-22T15:12:40.951681Z",
     "start_time": "2024-10-22T15:12:39.294567Z"
    }
   },
   "cell_type": "code",
   "source": [
    "iris_data = fetch_ucirepo(id=53)\n",
    "\n",
    "iris_X = iris_data.data.features\n",
    "iris_y = iris_data.data.targets\n",
    "\n",
    "# Sujungiame požymius ir tikslus į vieną duomenų rinkinį, pašaliname Setosa klasę ir paliekame tik Versicolor ir Virginica\n",
    "iris = pd.concat([iris_X, iris_y], axis=1)\n",
    "iris = iris[iris['class'].isin(['Iris-versicolor', 'Iris-virginica'])]\n",
    "\n",
    "# Pakeičiame klasių pavadinimus ir pasidarome naują stulpelį klasėm, išreikštom per 0 ir 1\n",
    "iris['class'] = iris['class'].replace(['Iris-versicolor', 'Iris-virginica'], [0, 1])\n",
    "\n",
    "iris"
   ],
   "id": "3f1d053861607c60",
   "outputs": [
    {
     "data": {
      "text/plain": [
       "     sepal length  sepal width  petal length  petal width  class\n",
       "50            7.0          3.2           4.7          1.4      0\n",
       "51            6.4          3.2           4.5          1.5      0\n",
       "52            6.9          3.1           4.9          1.5      0\n",
       "53            5.5          2.3           4.0          1.3      0\n",
       "54            6.5          2.8           4.6          1.5      0\n",
       "..            ...          ...           ...          ...    ...\n",
       "145           6.7          3.0           5.2          2.3      1\n",
       "146           6.3          2.5           5.0          1.9      1\n",
       "147           6.5          3.0           5.2          2.0      1\n",
       "148           6.2          3.4           5.4          2.3      1\n",
       "149           5.9          3.0           5.1          1.8      1\n",
       "\n",
       "[100 rows x 5 columns]"
      ],
      "text/html": [
       "<div>\n",
       "<style scoped>\n",
       "    .dataframe tbody tr th:only-of-type {\n",
       "        vertical-align: middle;\n",
       "    }\n",
       "\n",
       "    .dataframe tbody tr th {\n",
       "        vertical-align: top;\n",
       "    }\n",
       "\n",
       "    .dataframe thead th {\n",
       "        text-align: right;\n",
       "    }\n",
       "</style>\n",
       "<table border=\"1\" class=\"dataframe\">\n",
       "  <thead>\n",
       "    <tr style=\"text-align: right;\">\n",
       "      <th></th>\n",
       "      <th>sepal length</th>\n",
       "      <th>sepal width</th>\n",
       "      <th>petal length</th>\n",
       "      <th>petal width</th>\n",
       "      <th>class</th>\n",
       "    </tr>\n",
       "  </thead>\n",
       "  <tbody>\n",
       "    <tr>\n",
       "      <th>50</th>\n",
       "      <td>7.0</td>\n",
       "      <td>3.2</td>\n",
       "      <td>4.7</td>\n",
       "      <td>1.4</td>\n",
       "      <td>0</td>\n",
       "    </tr>\n",
       "    <tr>\n",
       "      <th>51</th>\n",
       "      <td>6.4</td>\n",
       "      <td>3.2</td>\n",
       "      <td>4.5</td>\n",
       "      <td>1.5</td>\n",
       "      <td>0</td>\n",
       "    </tr>\n",
       "    <tr>\n",
       "      <th>52</th>\n",
       "      <td>6.9</td>\n",
       "      <td>3.1</td>\n",
       "      <td>4.9</td>\n",
       "      <td>1.5</td>\n",
       "      <td>0</td>\n",
       "    </tr>\n",
       "    <tr>\n",
       "      <th>53</th>\n",
       "      <td>5.5</td>\n",
       "      <td>2.3</td>\n",
       "      <td>4.0</td>\n",
       "      <td>1.3</td>\n",
       "      <td>0</td>\n",
       "    </tr>\n",
       "    <tr>\n",
       "      <th>54</th>\n",
       "      <td>6.5</td>\n",
       "      <td>2.8</td>\n",
       "      <td>4.6</td>\n",
       "      <td>1.5</td>\n",
       "      <td>0</td>\n",
       "    </tr>\n",
       "    <tr>\n",
       "      <th>...</th>\n",
       "      <td>...</td>\n",
       "      <td>...</td>\n",
       "      <td>...</td>\n",
       "      <td>...</td>\n",
       "      <td>...</td>\n",
       "    </tr>\n",
       "    <tr>\n",
       "      <th>145</th>\n",
       "      <td>6.7</td>\n",
       "      <td>3.0</td>\n",
       "      <td>5.2</td>\n",
       "      <td>2.3</td>\n",
       "      <td>1</td>\n",
       "    </tr>\n",
       "    <tr>\n",
       "      <th>146</th>\n",
       "      <td>6.3</td>\n",
       "      <td>2.5</td>\n",
       "      <td>5.0</td>\n",
       "      <td>1.9</td>\n",
       "      <td>1</td>\n",
       "    </tr>\n",
       "    <tr>\n",
       "      <th>147</th>\n",
       "      <td>6.5</td>\n",
       "      <td>3.0</td>\n",
       "      <td>5.2</td>\n",
       "      <td>2.0</td>\n",
       "      <td>1</td>\n",
       "    </tr>\n",
       "    <tr>\n",
       "      <th>148</th>\n",
       "      <td>6.2</td>\n",
       "      <td>3.4</td>\n",
       "      <td>5.4</td>\n",
       "      <td>2.3</td>\n",
       "      <td>1</td>\n",
       "    </tr>\n",
       "    <tr>\n",
       "      <th>149</th>\n",
       "      <td>5.9</td>\n",
       "      <td>3.0</td>\n",
       "      <td>5.1</td>\n",
       "      <td>1.8</td>\n",
       "      <td>1</td>\n",
       "    </tr>\n",
       "  </tbody>\n",
       "</table>\n",
       "<p>100 rows × 5 columns</p>\n",
       "</div>"
      ]
     },
     "execution_count": 76,
     "metadata": {},
     "output_type": "execute_result"
    }
   ],
   "execution_count": 76
  },
  {
   "metadata": {},
   "cell_type": "markdown",
   "source": "## Tvarkome krūties vėžio duomenis",
   "id": "1afa927ee82d983"
  },
  {
   "metadata": {
    "ExecuteTime": {
     "end_time": "2024-10-23T19:54:38.667286Z",
     "start_time": "2024-10-23T19:54:36.614758Z"
    }
   },
   "cell_type": "code",
   "source": [
    "bc_data = fetch_ucirepo(id=15)\n",
    "bc_X = bc_data.data.features\n",
    "bc_y = bc_data.data.targets\n",
    "\n",
    "# Sujungiame duomenis\n",
    "breast_cancer = pd.concat([bc_X, bc_y], axis=1)\n",
    "\n",
    "# Pašaliname trūkstamų reikšmių eiles\n",
    "print(breast_cancer.isna().sum())\n",
    "breast_cancer = breast_cancer.dropna()\n",
    "\n",
    "# Pakeičiame žymes\n",
    "breast_cancer['Class'] = breast_cancer['Class'].replace([2, 4], [0, 1])\n",
    "\n",
    "# Sukuriame failą su duomenimis\n",
    "breast_cancer.to_csv('breast_cancer.csv', sep=',', index=False, header=True)\n",
    "breast_cancer"
   ],
   "id": "a76ebf0979af5ab4",
   "outputs": [
    {
     "name": "stdout",
     "output_type": "stream",
     "text": [
      "Clump_thickness                 0\n",
      "Uniformity_of_cell_size         0\n",
      "Uniformity_of_cell_shape        0\n",
      "Marginal_adhesion               0\n",
      "Single_epithelial_cell_size     0\n",
      "Bare_nuclei                    16\n",
      "Bland_chromatin                 0\n",
      "Normal_nucleoli                 0\n",
      "Mitoses                         0\n",
      "Class                           0\n",
      "dtype: int64\n"
     ]
    },
    {
     "data": {
      "text/plain": [
       "     Clump_thickness  Uniformity_of_cell_size  Uniformity_of_cell_shape  \\\n",
       "0                  5                        1                         1   \n",
       "1                  5                        4                         4   \n",
       "2                  3                        1                         1   \n",
       "3                  6                        8                         8   \n",
       "4                  4                        1                         1   \n",
       "..               ...                      ...                       ...   \n",
       "694                3                        1                         1   \n",
       "695                2                        1                         1   \n",
       "696                5                       10                        10   \n",
       "697                4                        8                         6   \n",
       "698                4                        8                         8   \n",
       "\n",
       "     Marginal_adhesion  Single_epithelial_cell_size  Bare_nuclei  \\\n",
       "0                    1                            2          1.0   \n",
       "1                    5                            7         10.0   \n",
       "2                    1                            2          2.0   \n",
       "3                    1                            3          4.0   \n",
       "4                    3                            2          1.0   \n",
       "..                 ...                          ...          ...   \n",
       "694                  1                            3          2.0   \n",
       "695                  1                            2          1.0   \n",
       "696                  3                            7          3.0   \n",
       "697                  4                            3          4.0   \n",
       "698                  5                            4          5.0   \n",
       "\n",
       "     Bland_chromatin  Normal_nucleoli  Mitoses  Class  \n",
       "0                  3                1        1      0  \n",
       "1                  3                2        1      0  \n",
       "2                  3                1        1      0  \n",
       "3                  3                7        1      0  \n",
       "4                  3                1        1      0  \n",
       "..               ...              ...      ...    ...  \n",
       "694                1                1        1      0  \n",
       "695                1                1        1      0  \n",
       "696                8               10        2      1  \n",
       "697               10                6        1      1  \n",
       "698               10                4        1      1  \n",
       "\n",
       "[683 rows x 10 columns]"
      ],
      "text/html": [
       "<div>\n",
       "<style scoped>\n",
       "    .dataframe tbody tr th:only-of-type {\n",
       "        vertical-align: middle;\n",
       "    }\n",
       "\n",
       "    .dataframe tbody tr th {\n",
       "        vertical-align: top;\n",
       "    }\n",
       "\n",
       "    .dataframe thead th {\n",
       "        text-align: right;\n",
       "    }\n",
       "</style>\n",
       "<table border=\"1\" class=\"dataframe\">\n",
       "  <thead>\n",
       "    <tr style=\"text-align: right;\">\n",
       "      <th></th>\n",
       "      <th>Clump_thickness</th>\n",
       "      <th>Uniformity_of_cell_size</th>\n",
       "      <th>Uniformity_of_cell_shape</th>\n",
       "      <th>Marginal_adhesion</th>\n",
       "      <th>Single_epithelial_cell_size</th>\n",
       "      <th>Bare_nuclei</th>\n",
       "      <th>Bland_chromatin</th>\n",
       "      <th>Normal_nucleoli</th>\n",
       "      <th>Mitoses</th>\n",
       "      <th>Class</th>\n",
       "    </tr>\n",
       "  </thead>\n",
       "  <tbody>\n",
       "    <tr>\n",
       "      <th>0</th>\n",
       "      <td>5</td>\n",
       "      <td>1</td>\n",
       "      <td>1</td>\n",
       "      <td>1</td>\n",
       "      <td>2</td>\n",
       "      <td>1.0</td>\n",
       "      <td>3</td>\n",
       "      <td>1</td>\n",
       "      <td>1</td>\n",
       "      <td>0</td>\n",
       "    </tr>\n",
       "    <tr>\n",
       "      <th>1</th>\n",
       "      <td>5</td>\n",
       "      <td>4</td>\n",
       "      <td>4</td>\n",
       "      <td>5</td>\n",
       "      <td>7</td>\n",
       "      <td>10.0</td>\n",
       "      <td>3</td>\n",
       "      <td>2</td>\n",
       "      <td>1</td>\n",
       "      <td>0</td>\n",
       "    </tr>\n",
       "    <tr>\n",
       "      <th>2</th>\n",
       "      <td>3</td>\n",
       "      <td>1</td>\n",
       "      <td>1</td>\n",
       "      <td>1</td>\n",
       "      <td>2</td>\n",
       "      <td>2.0</td>\n",
       "      <td>3</td>\n",
       "      <td>1</td>\n",
       "      <td>1</td>\n",
       "      <td>0</td>\n",
       "    </tr>\n",
       "    <tr>\n",
       "      <th>3</th>\n",
       "      <td>6</td>\n",
       "      <td>8</td>\n",
       "      <td>8</td>\n",
       "      <td>1</td>\n",
       "      <td>3</td>\n",
       "      <td>4.0</td>\n",
       "      <td>3</td>\n",
       "      <td>7</td>\n",
       "      <td>1</td>\n",
       "      <td>0</td>\n",
       "    </tr>\n",
       "    <tr>\n",
       "      <th>4</th>\n",
       "      <td>4</td>\n",
       "      <td>1</td>\n",
       "      <td>1</td>\n",
       "      <td>3</td>\n",
       "      <td>2</td>\n",
       "      <td>1.0</td>\n",
       "      <td>3</td>\n",
       "      <td>1</td>\n",
       "      <td>1</td>\n",
       "      <td>0</td>\n",
       "    </tr>\n",
       "    <tr>\n",
       "      <th>...</th>\n",
       "      <td>...</td>\n",
       "      <td>...</td>\n",
       "      <td>...</td>\n",
       "      <td>...</td>\n",
       "      <td>...</td>\n",
       "      <td>...</td>\n",
       "      <td>...</td>\n",
       "      <td>...</td>\n",
       "      <td>...</td>\n",
       "      <td>...</td>\n",
       "    </tr>\n",
       "    <tr>\n",
       "      <th>694</th>\n",
       "      <td>3</td>\n",
       "      <td>1</td>\n",
       "      <td>1</td>\n",
       "      <td>1</td>\n",
       "      <td>3</td>\n",
       "      <td>2.0</td>\n",
       "      <td>1</td>\n",
       "      <td>1</td>\n",
       "      <td>1</td>\n",
       "      <td>0</td>\n",
       "    </tr>\n",
       "    <tr>\n",
       "      <th>695</th>\n",
       "      <td>2</td>\n",
       "      <td>1</td>\n",
       "      <td>1</td>\n",
       "      <td>1</td>\n",
       "      <td>2</td>\n",
       "      <td>1.0</td>\n",
       "      <td>1</td>\n",
       "      <td>1</td>\n",
       "      <td>1</td>\n",
       "      <td>0</td>\n",
       "    </tr>\n",
       "    <tr>\n",
       "      <th>696</th>\n",
       "      <td>5</td>\n",
       "      <td>10</td>\n",
       "      <td>10</td>\n",
       "      <td>3</td>\n",
       "      <td>7</td>\n",
       "      <td>3.0</td>\n",
       "      <td>8</td>\n",
       "      <td>10</td>\n",
       "      <td>2</td>\n",
       "      <td>1</td>\n",
       "    </tr>\n",
       "    <tr>\n",
       "      <th>697</th>\n",
       "      <td>4</td>\n",
       "      <td>8</td>\n",
       "      <td>6</td>\n",
       "      <td>4</td>\n",
       "      <td>3</td>\n",
       "      <td>4.0</td>\n",
       "      <td>10</td>\n",
       "      <td>6</td>\n",
       "      <td>1</td>\n",
       "      <td>1</td>\n",
       "    </tr>\n",
       "    <tr>\n",
       "      <th>698</th>\n",
       "      <td>4</td>\n",
       "      <td>8</td>\n",
       "      <td>8</td>\n",
       "      <td>5</td>\n",
       "      <td>4</td>\n",
       "      <td>5.0</td>\n",
       "      <td>10</td>\n",
       "      <td>4</td>\n",
       "      <td>1</td>\n",
       "      <td>1</td>\n",
       "    </tr>\n",
       "  </tbody>\n",
       "</table>\n",
       "<p>683 rows × 10 columns</p>\n",
       "</div>"
      ]
     },
     "execution_count": 2,
     "metadata": {},
     "output_type": "execute_result"
    }
   ],
   "execution_count": 2
  },
  {
   "metadata": {
    "ExecuteTime": {
     "end_time": "2024-10-22T15:12:44.195893Z",
     "start_time": "2024-10-22T15:12:43.250143Z"
    }
   },
   "cell_type": "code",
   "source": [
    "# Duomenų vizualizavimas: naudosime petal_length ir petal_width stulpelius\n",
    "plt.figure(figsize=(10, 6))\n",
    "plt.scatter(iris[iris['class'] == 0]['petal length'],\n",
    "            iris[iris['class'] == 0]['petal width'], \n",
    "            color='blue', label='Versicolor (0)', alpha=0.5)\n",
    "\n",
    "plt.scatter(iris[iris['class'] == 1]['petal length'],\n",
    "            iris[iris['class'] == 1]['petal width'], \n",
    "            color='red', label='Virginica (1)', alpha=0.5)\n",
    "\n",
    "plt.xlabel('Vainiklapio ilgis', fontsize=14)\n",
    "plt.ylabel('Vainiklapio plotis', fontsize=14)\n",
    "plt.title('Irisų duomenų vizualizacija', fontsize=20)\n",
    "plt.legend()\n",
    "plt.show()"
   ],
   "id": "af3cac56d59ae573",
   "outputs": [
    {
     "data": {
      "text/plain": [
       "<Figure size 720x432 with 1 Axes>"
      ],
      "image/png": "[encoded data removed]"
     },
     "metadata": {
      "needs_background": "light"
     },
     "output_type": "display_data"
    }
   ],
   "execution_count": 78
  },
  {
   "metadata": {
    "ExecuteTime": {
     "end_time": "2024-10-22T15:12:44.227691Z",
     "start_time": "2024-10-22T15:12:44.200193Z"
    }
   },
   "cell_type": "code",
   "source": [
    "\"\"\"import seaborn as sns\n",
    "import matplotlib.pyplot as plt\n",
    "\n",
    "# Pervadiname stulpelius\n",
    "iris_graph = iris.rename(columns={\n",
    "    'sepal length': 'Taurėlapio ilgis', \n",
    "    'sepal width': 'Taurėlapio plotis', \n",
    "    'petal length': 'Vainiklapio ilgis', \n",
    "    'petal width': 'Vainiklapio plotis',\n",
    "    'class': 'Klasė'\n",
    "})\n",
    "\n",
    "palette_colors = {0: \"red\", 1: \"blue\"}\n",
    "\n",
    "g = sns.pairplot(iris_graph, hue='Klasė', diag_kind=\"kde\", corner=False, palette=palette_colors)\n",
    "\n",
    "for ax in g.axes.flatten():\n",
    "    ax.tick_params(axis='both', which='major', labelsize=12)  \n",
    "    ax.set_xlabel(ax.get_xlabel(), fontsize=14)  \n",
    "    ax.set_ylabel(ax.get_ylabel(), fontsize=14)  \n",
    "\n",
    "plt.show()\"\"\""
   ],
   "id": "d0c328df5cdf213",
   "outputs": [
    {
     "data": {
      "text/plain": [
       "'import seaborn as sns\\nimport matplotlib.pyplot as plt\\n\\n# Pervadiname stulpelius\\niris_graph = iris.rename(columns={\\n    \\'sepal length\\': \\'Taurėlapio ilgis\\', \\n    \\'sepal width\\': \\'Taurėlapio plotis\\', \\n    \\'petal length\\': \\'Vainiklapio ilgis\\', \\n    \\'petal width\\': \\'Vainiklapio plotis\\',\\n    \\'class\\': \\'Klasė\\'\\n})\\n\\npalette_colors = {0: \"red\", 1: \"blue\"}\\n\\ng = sns.pairplot(iris_graph, hue=\\'Klasė\\', diag_kind=\"kde\", corner=False, palette=palette_colors)\\n\\nfor ax in g.axes.flatten():\\n    ax.tick_params(axis=\\'both\\', which=\\'major\\', labelsize=12)  \\n    ax.set_xlabel(ax.get_xlabel(), fontsize=14)  \\n    ax.set_ylabel(ax.get_ylabel(), fontsize=14)  \\n\\nplt.show()'"
      ]
     },
     "execution_count": 79,
     "metadata": {},
     "output_type": "execute_result"
    }
   ],
   "execution_count": 79
  },
  {
   "metadata": {},
   "cell_type": "markdown",
   "source": "## Didiname duomenų kiekį",
   "id": "e0f49019daac62e7"
  },
  {
   "metadata": {
    "ExecuteTime": {
     "end_time": "2024-10-22T15:12:44.323145Z",
     "start_time": "2024-10-22T15:12:44.229921Z"
    }
   },
   "cell_type": "code",
   "source": [
    "# Atsiskiriame požymius ir tikslus\n",
    "X = iris.iloc[:, :4]\n",
    "y = iris.iloc[:, -1]\n",
    "\n",
    "mod_iris = pd.DataFrame(X)\n",
    "mod_label = pd.DataFrame(y)\n",
    "\n",
    "# 4 kartus generuojame modifikuotus (su pridėtu triukšmu) požymius\n",
    "for _ in range (4):\n",
    "    mod = np.random.normal(0, 0.08, [100, 4]) \n",
    "    mod_noise = X.iloc[:, :4] + mod\n",
    "    mod_iris = pd.concat([mod_iris, mod_noise], axis=0)\n",
    "\n",
    "# Tas pačias klases perrašom 4 kartus  \n",
    "mod_label = pd.concat([mod_label] * 5)\n",
    "\n",
    "# Sudedam padidintus duomenis\n",
    "iris_new = pd.concat([mod_iris.reset_index(drop=True), mod_label.reset_index(drop=True)], axis=1)\n",
    "\n",
    "iris_new.to_csv('iris.csv', sep=',', index=False, header=True)\n",
    "iris_new"
   ],
   "id": "24f01e03469531b6",
   "outputs": [
    {
     "data": {
      "text/plain": [
       "     sepal length  sepal width  petal length  petal width  class\n",
       "0        7.000000     3.200000      4.700000     1.400000      0\n",
       "1        6.400000     3.200000      4.500000     1.500000      0\n",
       "2        6.900000     3.100000      4.900000     1.500000      0\n",
       "3        5.500000     2.300000      4.000000     1.300000      0\n",
       "4        6.500000     2.800000      4.600000     1.500000      0\n",
       "..            ...          ...           ...          ...    ...\n",
       "495      6.861593     2.939899      5.085175     2.230916      1\n",
       "496      6.317611     2.465517      4.998518     2.014921      1\n",
       "497      6.435380     3.022994      5.140463     2.133954      1\n",
       "498      6.211908     3.370359      5.409210     2.292950      1\n",
       "499      5.920316     2.958291      5.099534     1.780745      1\n",
       "\n",
       "[500 rows x 5 columns]"
      ],
      "text/html": [
       "<div>\n",
       "<style scoped>\n",
       "    .dataframe tbody tr th:only-of-type {\n",
       "        vertical-align: middle;\n",
       "    }\n",
       "\n",
       "    .dataframe tbody tr th {\n",
       "        vertical-align: top;\n",
       "    }\n",
       "\n",
       "    .dataframe thead th {\n",
       "        text-align: right;\n",
       "    }\n",
       "</style>\n",
       "<table border=\"1\" class=\"dataframe\">\n",
       "  <thead>\n",
       "    <tr style=\"text-align: right;\">\n",
       "      <th></th>\n",
       "      <th>sepal length</th>\n",
       "      <th>sepal width</th>\n",
       "      <th>petal length</th>\n",
       "      <th>petal width</th>\n",
       "      <th>class</th>\n",
       "    </tr>\n",
       "  </thead>\n",
       "  <tbody>\n",
       "    <tr>\n",
       "      <th>0</th>\n",
       "      <td>7.000000</td>\n",
       "      <td>3.200000</td>\n",
       "      <td>4.700000</td>\n",
       "      <td>1.400000</td>\n",
       "      <td>0</td>\n",
       "    </tr>\n",
       "    <tr>\n",
       "      <th>1</th>\n",
       "      <td>6.400000</td>\n",
       "      <td>3.200000</td>\n",
       "      <td>4.500000</td>\n",
       "      <td>1.500000</td>\n",
       "      <td>0</td>\n",
       "    </tr>\n",
       "    <tr>\n",
       "      <th>2</th>\n",
       "      <td>6.900000</td>\n",
       "      <td>3.100000</td>\n",
       "      <td>4.900000</td>\n",
       "      <td>1.500000</td>\n",
       "      <td>0</td>\n",
       "    </tr>\n",
       "    <tr>\n",
       "      <th>3</th>\n",
       "      <td>5.500000</td>\n",
       "      <td>2.300000</td>\n",
       "      <td>4.000000</td>\n",
       "      <td>1.300000</td>\n",
       "      <td>0</td>\n",
       "    </tr>\n",
       "    <tr>\n",
       "      <th>4</th>\n",
       "      <td>6.500000</td>\n",
       "      <td>2.800000</td>\n",
       "      <td>4.600000</td>\n",
       "      <td>1.500000</td>\n",
       "      <td>0</td>\n",
       "    </tr>\n",
       "    <tr>\n",
       "      <th>...</th>\n",
       "      <td>...</td>\n",
       "      <td>...</td>\n",
       "      <td>...</td>\n",
       "      <td>...</td>\n",
       "      <td>...</td>\n",
       "    </tr>\n",
       "    <tr>\n",
       "      <th>495</th>\n",
       "      <td>6.861593</td>\n",
       "      <td>2.939899</td>\n",
       "      <td>5.085175</td>\n",
       "      <td>2.230916</td>\n",
       "      <td>1</td>\n",
       "    </tr>\n",
       "    <tr>\n",
       "      <th>496</th>\n",
       "      <td>6.317611</td>\n",
       "      <td>2.465517</td>\n",
       "      <td>4.998518</td>\n",
       "      <td>2.014921</td>\n",
       "      <td>1</td>\n",
       "    </tr>\n",
       "    <tr>\n",
       "      <th>497</th>\n",
       "      <td>6.435380</td>\n",
       "      <td>3.022994</td>\n",
       "      <td>5.140463</td>\n",
       "      <td>2.133954</td>\n",
       "      <td>1</td>\n",
       "    </tr>\n",
       "    <tr>\n",
       "      <th>498</th>\n",
       "      <td>6.211908</td>\n",
       "      <td>3.370359</td>\n",
       "      <td>5.409210</td>\n",
       "      <td>2.292950</td>\n",
       "      <td>1</td>\n",
       "    </tr>\n",
       "    <tr>\n",
       "      <th>499</th>\n",
       "      <td>5.920316</td>\n",
       "      <td>2.958291</td>\n",
       "      <td>5.099534</td>\n",
       "      <td>1.780745</td>\n",
       "      <td>1</td>\n",
       "    </tr>\n",
       "  </tbody>\n",
       "</table>\n",
       "<p>500 rows × 5 columns</p>\n",
       "</div>"
      ]
     },
     "execution_count": 80,
     "metadata": {},
     "output_type": "execute_result"
    }
   ],
   "execution_count": 80
  },
  {
   "metadata": {
    "ExecuteTime": {
     "end_time": "2024-10-22T15:12:45.018036Z",
     "start_time": "2024-10-22T15:12:44.327282Z"
    }
   },
   "cell_type": "code",
   "source": [
    "# Duomenų vizualizavimas: naudosime petal_length ir petal_width stulpelius\n",
    "plt.figure(figsize=(10, 6))\n",
    "plt.scatter(iris_new[iris_new['class'] == 0]['petal length'],\n",
    "            iris_new[iris_new['class'] == 0]['petal width'], \n",
    "            color='blue', label='Versicolor (0)', alpha=0.5)\n",
    "\n",
    "plt.scatter(iris_new[iris_new['class'] == 1]['petal length'],\n",
    "            iris_new[iris_new['class'] == 1]['petal width'],  \n",
    "            color='red', label='Virginica (1)', alpha=0.5)\n",
    "\n",
    "plt.xlabel('Vainiklapio ilgis', fontsize=14)\n",
    "plt.ylabel('Vainiklapio plotis', fontsize=14)\n",
    "plt.title('Papildytųiri irisų duomenų vizualizacija', fontsize=20)\n",
    "plt.legend()\n",
    "plt.show()"
   ],
   "id": "3b84acc560c86236",
   "outputs": [
    {
     "data": {
      "text/plain": [
       "<Figure size 720x432 with 1 Axes>"
      ],
      "image/png": "[encoded data removed]"
     },
     "metadata": {
      "needs_background": "light"
     },
     "output_type": "display_data"
    }
   ],
   "execution_count": 81
  },
  {
   "metadata": {
    "ExecuteTime": {
     "end_time": "2024-10-22T15:12:45.049845Z",
     "start_time": "2024-10-22T15:12:45.018036Z"
    }
   },
   "cell_type": "code",
   "source": [
    "\"\"\"import seaborn as sns\n",
    "import matplotlib.pyplot as plt\n",
    "\n",
    "# Pervadiname stulpelius\n",
    "iris_graph = iris_new.rename(columns={\n",
    "    'sepal length': 'Taurėlapio ilgis', \n",
    "    'sepal width': 'Taurėlapio plotis', \n",
    "    'petal length': 'Vainiklapio ilgis', \n",
    "    'petal width': 'Vainiklapio plotis',\n",
    "    'class': 'Klasė'\n",
    "})\n",
    "\n",
    "palette_colors = {0: \"red\", 1: \"blue\"}\n",
    "\n",
    "g = sns.pairplot(iris_graph, hue='Klasė', diag_kind=\"kde\", corner=False, palette=palette_colors)\n",
    "\n",
    "for ax in g.axes.flatten():\n",
    "    ax.tick_params(axis='both', which='major', labelsize=12)  \n",
    "    ax.set_xlabel(ax.get_xlabel(), fontsize=14)  \n",
    "    ax.set_ylabel(ax.get_ylabel(), fontsize=14)  \n",
    "\n",
    "plt.show()\"\"\""
   ],
   "id": "81be49a18f2375bf",
   "outputs": [
    {
     "data": {
      "text/plain": [
       "'import seaborn as sns\\nimport matplotlib.pyplot as plt\\n\\n# Pervadiname stulpelius\\niris_graph = iris_new.rename(columns={\\n    \\'sepal length\\': \\'Taurėlapio ilgis\\', \\n    \\'sepal width\\': \\'Taurėlapio plotis\\', \\n    \\'petal length\\': \\'Vainiklapio ilgis\\', \\n    \\'petal width\\': \\'Vainiklapio plotis\\',\\n    \\'class\\': \\'Klasė\\'\\n})\\n\\npalette_colors = {0: \"red\", 1: \"blue\"}\\n\\ng = sns.pairplot(iris_graph, hue=\\'Klasė\\', diag_kind=\"kde\", corner=False, palette=palette_colors)\\n\\nfor ax in g.axes.flatten():\\n    ax.tick_params(axis=\\'both\\', which=\\'major\\', labelsize=12)  \\n    ax.set_xlabel(ax.get_xlabel(), fontsize=14)  \\n    ax.set_ylabel(ax.get_ylabel(), fontsize=14)  \\n\\nplt.show()'"
      ]
     },
     "execution_count": 82,
     "metadata": {},
     "output_type": "execute_result"
    }
   ],
   "execution_count": 82
  },
  {
   "metadata": {},
   "cell_type": "markdown",
   "source": "## Perceptronas ir jo mokymas",
   "id": "162baf2b4c8f2f3d"
  },
  {
   "metadata": {
    "ExecuteTime": {
     "end_time": "2024-10-22T15:12:45.080799Z",
     "start_time": "2024-10-22T15:12:45.049845Z"
    }
   },
   "cell_type": "code",
   "source": [
    "# Funkcija duomenų nuskaitymui ir paruošimui\n",
    "\n",
    "def nuskaityti_duomenis(failas):\n",
    "    # Nuskaitome duomenų rinkinį iš failo ir sumaišome\n",
    "    data = pd.read_csv(failas).sample(frac=1).reset_index(drop=True)\n",
    "    \n",
    "    # Atskiriame požymius (X) ir žymes (t)\n",
    "    X = data.iloc[:, :-1]\n",
    "    t = data.iloc[:, -1]\n",
    "    \n",
    "    # Pridedame poslinkio (bias) stulpelį\n",
    "    \n",
    "    bias = pd.DataFrame(np.ones(X.shape[0]), columns=['Bias'])\n",
    "    X.reset_index(drop=True, inplace=True)\n",
    "    bias.reset_index(drop=True, inplace=True)\n",
    "    t.reset_index(drop=True, inplace=True)\n",
    "\n",
    "    # Sujungiame požymius su poslinkio stulpeliu\n",
    "    X = pd.concat([bias, X], axis=1)\n",
    "    \n",
    "    return X, t\n",
    "\n",
    "    \n",
    "# Sigmoidinės funkcijos apibrėžimas\n",
    "def sigmoidine(z):\n",
    "    return 1 / (1 + np.exp(-z))\n",
    "\n",
    "# Funkcija klasifikavimui\n",
    "def klasifikavimas(f):\n",
    "    return 1 if f >= 0.5 else 0\n",
    "\n",
    "# Funkcija svoriams atnaujinti\n",
    "def svorio_atnaujinimas(w, alpha, xi, ti, f):\n",
    "    return w - alpha * (f - ti) * f * (1 - f) * xi\n",
    "\n",
    "# Funkcija klaidai skaičiuoti\n",
    "def skaiciuoti_klaida(predicted, ti):\n",
    "    return (predicted - ti) ** 2\n"
   ],
   "id": "c493045b154901f7",
   "outputs": [],
   "execution_count": 83
  },
  {
   "metadata": {
    "ExecuteTime": {
     "end_time": "2024-10-22T15:12:45.128293Z",
     "start_time": "2024-10-22T15:12:45.085198Z"
    }
   },
   "cell_type": "code",
   "source": [
    "def mokymas(failas, alpha, epochos, min_error, test_size):\n",
    "    X, t = nuskaityti_duomenis(failas)\n",
    "    \n",
    "    # Padalijame duomenis į mokymo ir testavimo aibes\n",
    "    X_train, X_test, t_train, t_test = train_test_split(X, t, test_size=test_size, random_state=42)\n",
    "    \n",
    "    # Inicijuojame svorius\n",
    "    w = np.random.uniform(-1, 1, X_train.shape[1])\n",
    "    \n",
    "    epocha = 0\n",
    "    mok_klaidos = []\n",
    "    mok_tikslumai = []\n",
    "    test_klaidos = []\n",
    "    test_tikslumai = []\n",
    "    \n",
    "    while epocha < epochos:\n",
    "        mok_klaida = 0\n",
    "        klasifikacijos_mok = []\n",
    "        \n",
    "        # Atsitiktinai sumaišome duomenis\n",
    "        data_shuffled = pd.concat([X_train, t_train], axis=1).sample(frac=1).reset_index(drop=True)\n",
    "        \n",
    "        # Atliekame mokymą naudojant SGD\n",
    "        for i in range(X_train.shape[0]):\n",
    "            xi = data_shuffled.iloc[i, :-1].values\n",
    "            ti = data_shuffled.iloc[i, -1]\n",
    "            \n",
    "            # Skaičiuojame sandaugą ir pritaikome sigmoidinę aktyvacijos funkciją\n",
    "            z = np.dot(xi, w.T)\n",
    "            f = sigmoidine(z)\n",
    "            \n",
    "            # Klasifikuojame\n",
    "            predicted = klasifikavimas(f)\n",
    "            klasifikacijos_mok.append(predicted)\n",
    "            \n",
    "            # Atnaujiname svorius\n",
    "            w = svorio_atnaujinimas(w, alpha, xi, ti, f)\n",
    "            \n",
    "            # Skaičiuojame kvadratinę klaidą\n",
    "            mok_klaida += skaiciuoti_klaida(f, ti)\n",
    "        \n",
    "        epocha += 1\n",
    "        \n",
    "        # Skaičiuojame ir išsaugome mokymo klasifikavimo tikslumą\n",
    "        mok_accuracy = accuracy_score(data_shuffled.iloc[:, -1], klasifikacijos_mok)\n",
    "        mok_tikslumai.append(mok_accuracy)\n",
    "        mok_klaidos.append(mok_klaida / X_train.shape[0])\n",
    "        \n",
    "        # Baigiame mokymą, jei klaida tampa mažesnė už nustatytą ribą\n",
    "        if 1 - mok_accuracy <= min_error:\n",
    "            break\n",
    "\n",
    "    # Testavimo fazė vykdoma po visų epochų arba pasiekus minimalią klaidą\n",
    "    klasifikacijos_test = []\n",
    "    test_klaida = 0\n",
    "    results = []  \n",
    "\n",
    "    for i in range(X_test.shape[0]):\n",
    "        xi_test = X_test.iloc[i, :].values\n",
    "        \n",
    "        # Skaičiuojame sandaugą ir pritaikome sigmoidinę aktyvacijos funkciją\n",
    "        z_test = np.dot(xi_test, w.T)\n",
    "        f_test = sigmoidine(z_test)\n",
    "        \n",
    "        # Klasifikuojame\n",
    "        predicted_test = klasifikavimas(f_test)\n",
    "        klasifikacijos_test.append(predicted_test)\n",
    "        \n",
    "        # Išsaugome priskirtas ir tikrąsias klases\n",
    "        results.append((predicted_test, t_test.iloc[i])) \n",
    "        \n",
    "        # Skaičiuojame kvadratinę klaidą\n",
    "        test_klaida += skaiciuoti_klaida(t_test.iloc[i], f_test)\n",
    "    \n",
    "    test_accuracy = accuracy_score(t_test, klasifikacijos_test)\n",
    "    test_tikslumai.append(test_accuracy)\n",
    "    test_klaidos.append(test_klaida / X_test.shape[0])\n",
    "    \n",
    "    # Grąžinti svorius, klaidų ir tikslumo rezultatus\n",
    "    return w, mok_klaidos, mok_tikslumai, test_klaidos, test_tikslumai, results\n"
   ],
   "id": "9fb006aa3a85e4b0",
   "outputs": [],
   "execution_count": 84
  },
  {
   "metadata": {
    "ExecuteTime": {
     "end_time": "2024-10-22T15:12:45.159865Z",
     "start_time": "2024-10-22T15:12:45.136250Z"
    }
   },
   "cell_type": "code",
   "source": [
    "# Funkcija grafiko piešimui\n",
    "def grafikai(klaida, tikslumas):\n",
    "    epochos_range = range(1, len(klaida) + 1)\n",
    "    \n",
    "    plt.figure(figsize=(14, 6))\n",
    "    \n",
    "    # Klaidos grafikas\n",
    "    plt.subplot(1, 2, 1)\n",
    "    plt.plot(epochos_range, klaida, label=\"Paklaida kiekvienoje epochoje\", color='red')\n",
    "    plt.xlabel(\"Epocha\")\n",
    "    plt.ylabel(\"Paklaida\")\n",
    "    plt.legend()\n",
    "    \n",
    "    # Tikslumo grafikas\n",
    "    plt.subplot(1, 2, 2)\n",
    "    plt.plot(epochos_range, tikslumas, label=\"Tikslumas kiekvienoje epochoje\", color='green')\n",
    "    plt.xlabel(\"Epocha\")\n",
    "    plt.ylabel(\"Tikslumas\")\n",
    "    plt.legend()\n",
    "    \n",
    "    plt.show()"
   ],
   "id": "23da0a3bde4464a0",
   "outputs": [],
   "execution_count": 85
  },
  {
   "metadata": {},
   "cell_type": "markdown",
   "source": "## Mokymas ir testavimas su duomenų rinkiniais",
   "id": "bb98a40cfda9af75"
  },
  {
   "metadata": {
    "ExecuteTime": {
     "end_time": "2024-10-22T15:12:45.191824Z",
     "start_time": "2024-10-22T15:12:45.164879Z"
    }
   },
   "cell_type": "code",
   "source": [
    "# Paleidžiame mokymą ir testavimą su Irisų duomenimis\n",
    "\n",
    "file = 'iris.csv'\n",
    "\n",
    "#Hiperparametrai\n",
    "alphos = [0.1, 0.5, 0.99]\n",
    "epochos = [10, 100, 1000]\n",
    "min_error = 0.01\n",
    "test_size = 0.2\n",
    "\n",
    "w_irisu_alpha = []\n",
    "mok_klaidos_alpha = []\n",
    "mok_tikslumai_alpha = []\n",
    "test_klaidos_alpha = []\n",
    "test_tikslumai_alpha = []\n",
    "test_results = []\n",
    "\n",
    "for alpha in alphos:\n",
    "    for epocha in epochos:\n",
    "        w_irisu, mok_klaidos, mok_tikslumai, test_klaidos, test_tikslumai, test_result = mokymas(file, alpha, epocha, min_error, test_size)\n",
    "    \n",
    "        w_irisu_alpha.append(w_irisu)\n",
    "        mok_klaidos_alpha.append(mok_klaidos)\n",
    "        mok_tikslumai_alpha.append(mok_tikslumai)\n",
    "        test_klaidos_alpha.append(test_klaidos)\n",
    "        test_tikslumai_alpha.append(test_tikslumai)    \n",
    "        test_results.append(test_result)"
   ],
   "id": "b34c43cc9b79a31c",
   "outputs": [
    {
     "data": {
      "text/plain": [
       "\"# Paleidžiame mokymą ir testavimą su Irisų duomenimis\\n\\nfile = 'iris.csv'\\n\\n#Hiperparametrai\\nalphos = [0.1, 0.5, 0.99]\\nepochos = [10, 100, 1000]\\nmin_error = 0.01\\ntest_size = 0.2\\n\\nw_irisu_alpha = []\\nmok_klaidos_alpha = []\\nmok_tikslumai_alpha = []\\ntest_klaidos_alpha = []\\ntest_tikslumai_alpha = []\\ntest_results = []\\n\\nfor alpha in alphos:\\n    for epocha in epochos:\\n        w_irisu, mok_klaidos, mok_tikslumai, test_klaidos, test_tikslumai, test_result = mokymas(file, alpha, epocha, min_error, test_size)\\n    \\n        w_irisu_alpha.append(w_irisu)\\n        mok_klaidos_alpha.append(mok_klaidos)\\n        mok_tikslumai_alpha.append(mok_tikslumai)\\n        test_klaidos_alpha.append(test_klaidos)\\n        test_tikslumai_alpha.append(test_tikslumai)    \\n        test_results.append(test_result)\""
      ]
     },
     "execution_count": 86,
     "metadata": {},
     "output_type": "execute_result"
    }
   ],
   "execution_count": 86
  },
  {
   "metadata": {
    "ExecuteTime": {
     "end_time": "2024-10-22T15:12:45.223581Z",
     "start_time": "2024-10-22T15:12:45.196601Z"
    }
   },
   "cell_type": "code",
   "source": [
    "# Sukuriame lentelę su irisų duomenimis \n",
    "   \n",
    "data_iris = [\n",
    "    [10, 0.1, mok_tikslumai_alpha[0][9], test_tikslumai_alpha[0], mok_klaidos_alpha[0][9], test_klaidos_alpha[0]],\n",
    "    [10, 0.5, mok_tikslumai_alpha[3][9], test_tikslumai_alpha[3], mok_klaidos_alpha[3][9], test_klaidos_alpha[3]],\n",
    "    [10, 0.99, mok_tikslumai_alpha[6][9], test_tikslumai_alpha[6], mok_klaidos_alpha[6][9], test_klaidos_alpha[6]],\n",
    "\n",
    "\n",
    "    \n",
    "    [100, 0.1, mok_tikslumai_alpha[1][99], test_tikslumai_alpha[1], mok_klaidos_alpha[1][99], test_klaidos_alpha[1]],\n",
    "    [100, 0.5, mok_tikslumai_alpha[4][99], test_tikslumai_alpha[4], mok_klaidos_alpha[4][99], test_klaidos_alpha[4]],\n",
    "    [100, 0.99, mok_tikslumai_alpha[7][99], test_tikslumai_alpha[7], mok_klaidos_alpha[7][99], test_klaidos_alpha[7]],\n",
    "\n",
    "    \n",
    "    [1000, 0.1, mok_tikslumai_alpha[2][999], test_tikslumai_alpha[2], mok_klaidos_alpha[2][999], test_klaidos_alpha[2]],\n",
    "    [1000, 0.5, mok_tikslumai_alpha[5][999], test_tikslumai_alpha[5], mok_klaidos_alpha[5][999], test_klaidos_alpha[5]],\n",
    "    [1000, 0.99, mok_tikslumai_alpha[8][999], test_tikslumai_alpha[8], mok_klaidos_alpha[8][999], test_klaidos_alpha[8]]\n",
    "\n",
    "]\n",
    "\n",
    "df_iris = pd.DataFrame(data_iris, columns=[\"Epochos\", \"Mokymo greitis (alpha)\", \"Mokymo tikslumas\", \"Testavimo tikslumas\", \"Mokymo paklaida\", \"Testavimo paklaida\"])\n",
    "print(df_iris)\n"
   ],
   "id": "e5e6e13e8fc2cf66",
   "outputs": [
    {
     "data": {
      "text/plain": [
       "'# Sukuriame lentelę su irisų duomenimis \\n   \\ndata_iris = [\\n    [10, 0.1, mok_tikslumai_alpha[0][9], test_tikslumai_alpha[0], mok_klaidos_alpha[0][9], test_klaidos_alpha[0]],\\n    [10, 0.5, mok_tikslumai_alpha[3][9], test_tikslumai_alpha[3], mok_klaidos_alpha[3][9], test_klaidos_alpha[3]],\\n    [10, 0.99, mok_tikslumai_alpha[6][9], test_tikslumai_alpha[6], mok_klaidos_alpha[6][9], test_klaidos_alpha[6]],\\n\\n\\n    \\n    [100, 0.1, mok_tikslumai_alpha[1][99], test_tikslumai_alpha[1], mok_klaidos_alpha[1][99], test_klaidos_alpha[1]],\\n    [100, 0.5, mok_tikslumai_alpha[4][99], test_tikslumai_alpha[4], mok_klaidos_alpha[4][99], test_klaidos_alpha[4]],\\n    [100, 0.99, mok_tikslumai_alpha[7][99], test_tikslumai_alpha[7], mok_klaidos_alpha[7][99], test_klaidos_alpha[7]],\\n\\n    \\n    [1000, 0.1, mok_tikslumai_alpha[2][999], test_tikslumai_alpha[2], mok_klaidos_alpha[2][999], test_klaidos_alpha[2]],\\n    [1000, 0.5, mok_tikslumai_alpha[5][999], test_tikslumai_alpha[5], mok_klaidos_alpha[5][999], test_klaidos_alpha[5]],\\n    [1000, 0.99, mok_tikslumai_alpha[8][999], test_tikslumai_alpha[8], mok_klaidos_alpha[8][999], test_klaidos_alpha[8]]\\n\\n]\\n\\ndf_iris = pd.DataFrame(data_iris, columns=[\"Epochos\", \"Mokymo greitis (alpha)\", \"Mokymo tikslumas\", \"Testavimo tikslumas\", \"Mokymo paklaida\", \"Testavimo paklaida\"])\\nprint(df_iris)\\n'"
      ]
     },
     "execution_count": 87,
     "metadata": {},
     "output_type": "execute_result"
    }
   ],
   "execution_count": 87
  },
  {
   "metadata": {
    "ExecuteTime": {
     "end_time": "2024-10-22T15:12:45.251891Z",
     "start_time": "2024-10-22T15:12:45.229240Z"
    }
   },
   "cell_type": "code",
   "source": "grafikai(mok_klaidos_alpha[5], mok_tikslumai_alpha[5])",
   "id": "2cd687ec204ae778",
   "outputs": [],
   "execution_count": 88
  },
  {
   "metadata": {
    "ExecuteTime": {
     "end_time": "2024-10-22T15:39:42.436548Z",
     "start_time": "2024-10-22T15:39:42.087674Z"
    }
   },
   "cell_type": "code",
   "source": [
    "from collections import Counter\n",
    "\n",
    "# Sukuriame dažnių lentelę\n",
    "dazniai = Counter(test_results[5])\n",
    "\n",
    "for elementas, daznis in dazniai.items():\n",
    "    print(f\"Elementas {elementas} pasitaiko {daznis} kartus.\")"
   ],
   "id": "3aa46d3b8f9c2461",
   "outputs": [
    {
     "ename": "IndexError",
     "evalue": "list index out of range",
     "output_type": "error",
     "traceback": [
      "\u001B[1;31m---------------------------------------------------------------------------\u001B[0m",
      "\u001B[1;31mIndexError\u001B[0m                                Traceback (most recent call last)",
      "\u001B[1;32m~\\AppData\\Local\\Temp/ipykernel_10088/2339955452.py\u001B[0m in \u001B[0;36m<module>\u001B[1;34m\u001B[0m\n\u001B[0;32m      2\u001B[0m \u001B[1;33m\u001B[0m\u001B[0m\n\u001B[0;32m      3\u001B[0m \u001B[1;31m# Sukuriame dažnių lentelę\u001B[0m\u001B[1;33m\u001B[0m\u001B[1;33m\u001B[0m\u001B[0m\n\u001B[1;32m----> 4\u001B[1;33m \u001B[0mdazniai\u001B[0m \u001B[1;33m=\u001B[0m \u001B[0mCounter\u001B[0m\u001B[1;33m(\u001B[0m\u001B[0mtest_results\u001B[0m\u001B[1;33m[\u001B[0m\u001B[1;36m5\u001B[0m\u001B[1;33m]\u001B[0m\u001B[1;33m)\u001B[0m\u001B[1;33m\u001B[0m\u001B[1;33m\u001B[0m\u001B[0m\n\u001B[0m\u001B[0;32m      5\u001B[0m \u001B[1;33m\u001B[0m\u001B[0m\n\u001B[0;32m      6\u001B[0m \u001B[1;32mfor\u001B[0m \u001B[0melementas\u001B[0m\u001B[1;33m,\u001B[0m \u001B[0mdaznis\u001B[0m \u001B[1;32min\u001B[0m \u001B[0mdazniai\u001B[0m\u001B[1;33m.\u001B[0m\u001B[0mitems\u001B[0m\u001B[1;33m(\u001B[0m\u001B[1;33m)\u001B[0m\u001B[1;33m:\u001B[0m\u001B[1;33m\u001B[0m\u001B[1;33m\u001B[0m\u001B[0m\n",
      "\u001B[1;31mIndexError\u001B[0m: list index out of range"
     ]
    }
   ],
   "execution_count": 100
  },
  {
   "metadata": {},
   "cell_type": "markdown",
   "source": "## Vėžys",
   "id": "3b27a8d1c611c659"
  },
  {
   "metadata": {
    "ExecuteTime": {
     "end_time": "2024-10-22T15:35:33.796339Z",
     "start_time": "2024-10-22T15:12:45.283926Z"
    }
   },
   "cell_type": "code",
   "source": [
    "# Paleidžiame mokymą ir testavimą su krutų vėžio duomenimis\n",
    "\n",
    "file = 'breast_cancer.csv'\n",
    "\n",
    "#Hiperparametrai\n",
    "alphos = [0.1, 0.5, 0.99]\n",
    "epochos = [10, 100, 1000]\n",
    "min_error = 0.01\n",
    "test_size = 0.2\n",
    "\n",
    "w_cancer_alpha = []\n",
    "c_mok_klaidos_alpha = []\n",
    "c_mok_tikslumai_alpha = []\n",
    "c_test_klaidos_alpha = []\n",
    "c_test_tikslumai_alpha = []\n",
    "c_test_results = []\n",
    "\n",
    "for alpha in alphos:\n",
    "    for epocha in epochos:\n",
    "        w_cancer, mok_klaidos, mok_tikslumai, test_klaidos, test_tikslumai, c_test_result = mokymas(file, alpha, epocha, min_error, test_size)\n",
    "    \n",
    "        w_cancer_alpha.append(w_cancer)\n",
    "        c_mok_klaidos_alpha.append(mok_klaidos)\n",
    "        c_mok_tikslumai_alpha.append(mok_tikslumai)\n",
    "        c_test_klaidos_alpha.append(test_klaidos)\n",
    "        c_test_tikslumai_alpha.append(test_tikslumai)   \n",
    "        c_test_results.append(c_test_result)"
   ],
   "id": "5910b7b1535cb2d9",
   "outputs": [],
   "execution_count": 90
  },
  {
   "metadata": {
    "ExecuteTime": {
     "end_time": "2024-10-22T15:35:34.248735Z",
     "start_time": "2024-10-22T15:35:33.917712Z"
    }
   },
   "cell_type": "code",
   "source": [
    "# Sukuriame lentelę su vėžio duomenimis \n",
    "\n",
    "data_cancer = [\n",
    "    [10, 0.1, c_mok_tikslumai_alpha[0][9], c_test_tikslumai_alpha[0], c_mok_klaidos_alpha[0][9], c_test_klaidos_alpha[0]],\n",
    "    [10, 0.5, c_mok_tikslumai_alpha[3][9], c_test_tikslumai_alpha[3], c_mok_klaidos_alpha[3][9], c_test_klaidos_alpha[3]],\n",
    "    [10, 0.99, c_mok_tikslumai_alpha[6][9], c_test_tikslumai_alpha[6], c_mok_klaidos_alpha[6][9], c_test_klaidos_alpha[6]],\n",
    "\n",
    "    [100, 0.1, c_mok_tikslumai_alpha[1][99], c_test_tikslumai_alpha[1], c_mok_klaidos_alpha[1][99], c_test_klaidos_alpha[1]],\n",
    "    [100, 0.5, c_mok_tikslumai_alpha[4][99], c_test_tikslumai_alpha[4], c_mok_klaidos_alpha[4][99], c_test_klaidos_alpha[4]],\n",
    "    [100, 0.99, c_mok_tikslumai_alpha[7][99], c_test_tikslumai_alpha[7], c_mok_klaidos_alpha[7][99], c_test_klaidos_alpha[7]],\n",
    "\n",
    "    [1000, 0.1, c_mok_tikslumai_alpha[2][999], c_test_tikslumai_alpha[2], c_mok_klaidos_alpha[2][999], c_test_klaidos_alpha[2]],\n",
    "    [1000, 0.5, c_mok_tikslumai_alpha[5][999], c_test_tikslumai_alpha[5], c_mok_klaidos_alpha[5][999], c_test_klaidos_alpha[5]],\n",
    "    [1000, 0.99, c_mok_tikslumai_alpha[8][999], c_test_tikslumai_alpha[8], c_mok_klaidos_alpha[8][999], c_test_klaidos_alpha[8]]\n",
    "]\n",
    "\n",
    "df_cancer = pd.DataFrame(data_cancer, columns=[\"Epochos\", \"Mokymo greitis (alpha)\", \"Mokymo tikslumas\", \"Testavimo tikslumas\", \"Mokymo paklaida\", \"Testavimo paklaida\"])\n",
    "\n",
    "print(df_cancer)"
   ],
   "id": "80239c8fccfa1d0d",
   "outputs": [
    {
     "name": "stdout",
     "output_type": "stream",
     "text": [
      "   Epochos  Mokymo greitis (alpha)  Mokymo tikslumas   Testavimo tikslumas  \\\n",
      "0       10                    0.10          0.646520  [0.6642335766423357]   \n",
      "1       10                    0.50          0.670330  [0.5693430656934306]   \n",
      "2       10                    0.99          0.670330  [0.5693430656934306]   \n",
      "3      100                    0.10          0.968864  [0.9781021897810219]   \n",
      "4      100                    0.50          0.653846   [0.635036496350365]   \n",
      "5      100                    0.99          0.639194  [0.6934306569343066]   \n",
      "6     1000                    0.10          0.974359  [0.9854014598540146]   \n",
      "7     1000                    0.50          0.650183  [0.6496350364963503]   \n",
      "8     1000                    0.99          0.635531   [0.708029197080292]   \n",
      "\n",
      "   Mokymo paklaida      Testavimo paklaida  \n",
      "0         0.353513     [0.335785448572004]  \n",
      "1         0.329675   [0.43066929873602067]  \n",
      "2         0.329675    [0.4306635479868758]  \n",
      "3         0.024368  [0.025873405635686162]  \n",
      "4         0.346155   [0.36496528021283997]  \n",
      "5         0.360807   [0.30656977339248226]  \n",
      "6         0.022940  [0.013398955706735693]  \n",
      "7         0.349817    [0.3503650770626131]  \n",
      "8         0.364469    [0.2919749251442177]  \n"
     ]
    }
   ],
   "execution_count": 91
  },
  {
   "metadata": {
    "ExecuteTime": {
     "end_time": "2024-10-22T15:40:48.387703Z",
     "start_time": "2024-10-22T15:40:44.870135Z"
    }
   },
   "cell_type": "code",
   "source": "grafikai(c_mok_klaidos_alpha[2], c_mok_tikslumai_alpha[2])",
   "id": "7cba354ad5d44fc1",
   "outputs": [
    {
     "data": {
      "text/plain": [
       "<Figure size 1008x432 with 2 Axes>"
      ],
      "image/png": "[encoded data removed]"
     },
     "metadata": {
      "needs_background": "light"
     },
     "output_type": "display_data"
    }
   ],
   "execution_count": 102
  },
  {
   "metadata": {
    "ExecuteTime": {
     "end_time": "2024-10-22T15:41:05.761268Z",
     "start_time": "2024-10-22T15:41:05.741302Z"
    }
   },
   "cell_type": "code",
   "source": [
    "dazniai = Counter(c_test_results[2])\n",
    "\n",
    "for elementas, daznis in dazniai.items():\n",
    "    print(f\"Elementas {elementas} pasitaiko {daznis} kartus.\")"
   ],
   "id": "924d03ca60ef557f",
   "outputs": [
    {
     "name": "stdout",
     "output_type": "stream",
     "text": [
      "Elementas (0, 0) pasitaiko 91 kartus.\n",
      "Elementas (1, 1) pasitaiko 44 kartus.\n",
      "Elementas (1, 0) pasitaiko 1 kartus.\n",
      "Elementas (0, 1) pasitaiko 1 kartus.\n"
     ]
    }
   ],
   "execution_count": 103
  },
  {
   "metadata": {},
   "cell_type": "markdown",
   "source": "## Klasifikuojame duomenis su gautais svoriais",
   "id": "c0a4d447c11a4731"
  },
  {
   "metadata": {
    "ExecuteTime": {
     "end_time": "2024-10-22T15:43:56.902300Z",
     "start_time": "2024-10-22T15:43:56.870563Z"
    }
   },
   "cell_type": "code",
   "source": [
    "# Gauti svoriai\n",
    "\n",
    "print(f'Krūtų vėžio duomenis apmokyto perceptrono svoriai {w_cancer_alpha[2]}')\n"
   ],
   "id": "312beabfa4a4a343",
   "outputs": [
    {
     "name": "stdout",
     "output_type": "stream",
     "text": [
      "Krūtų vėžio duomenis apmokyto perceptrono svoriai [-15.87839109   0.67774555   0.53026084   0.93977913   0.38368681\n",
      "  -0.40528916   0.84811627   0.7207452    0.43610921   1.00150059]\n"
     ]
    }
   ],
   "execution_count": 105
  },
  {
   "metadata": {
    "ExecuteTime": {
     "end_time": "2024-10-22T15:48:44.745816Z",
     "start_time": "2024-10-22T15:48:44.698943Z"
    }
   },
   "cell_type": "code",
   "source": [
    "def tikrinimas(file, w):\n",
    "    X, y = nuskaityti_duomenis(file)\n",
    "    teisingi = 0\n",
    "    for i in range(X.shape[0]):\n",
    "        z = np.dot(X.iloc[i, :].values, w.T)\n",
    "        f = sigmoidine(z)\n",
    "        predicted = klasifikavimas(f)\n",
    "        if predicted == y[i]:\n",
    "            teisingi += 1\n",
    "    accuracy = teisingi/X.shape[0]*100\n",
    "    return teisingi, accuracy"
   ],
   "id": "b4efb9387469b7a0",
   "outputs": [],
   "execution_count": 106
  },
  {
   "metadata": {
    "ExecuteTime": {
     "end_time": "2024-10-22T15:55:00.704598Z",
     "start_time": "2024-10-22T15:55:00.398308Z"
    }
   },
   "cell_type": "code",
   "source": [
    "#irisu_teisingi, irisu_accuracy = tikrinimas('iris.csv', iris_alpha[5])\n",
    "cancer_teisingi, cancer_accuracy = tikrinimas('breast_cancer.csv', w_cancer_alpha[2])\n",
    "\n",
    "print(f\"Irisų duomenų rinkinio tikslumas: {irisu_accuracy:.2f}%\")\n",
    "print(f\"Krūties vėžio duomenų rinkinio tikslumas: {cancer_accuracy:.2f}%\")"
   ],
   "id": "43e28d90e4d9a9c9",
   "outputs": [
    {
     "name": "stdout",
     "output_type": "stream",
     "text": [
      "Irisų duomenų rinkinio tikslumas: 97.00%\n",
      "Krūties vėžio duomenų rinkinio tikslumas: 97.95%\n"
     ]
    }
   ],
   "execution_count": 114
  }
 ],
 "metadata": {
  "kernelspec": {
   "display_name": "Python 3",
   "language": "python",
   "name": "python3"
  },
  "language_info": {
   "codemirror_mode": {
    "name": "ipython",
    "version": 2
   },
   "file_extension": ".py",
   "mimetype": "text/x-python",
   "name": "python",
   "nbconvert_exporter": "python",
   "pygments_lexer": "ipython2",
   "version": "2.7.6"
  }
 },
 "nbformat": 4,
 "nbformat_minor": 5
}
